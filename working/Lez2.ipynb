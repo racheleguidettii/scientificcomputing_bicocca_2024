{
 "cells": [
  {
   "cell_type": "markdown",
   "id": "61f1647c-db83-4874-9e4d-90219ef7ba36",
   "metadata": {},
   "source": [
    "# Lez 2"
   ]
  },
  {
   "cell_type": "code",
   "execution_count": 1,
   "id": "46327a6d-da93-4379-8e71-3cf4d7dd069c",
   "metadata": {},
   "outputs": [],
   "source": [
    "import numpy as np"
   ]
  },
  {
   "cell_type": "markdown",
   "id": "0ae2e021-bf9c-4e45-9acd-c5cd66ede517",
   "metadata": {},
   "source": [
    "## Q1: Fun with arrays\n",
    "\n",
    "**A.**  Create the array: \n",
    "```\n",
    "[[1,  6, 11],\n",
    " [2,  7, 12],\n",
    " [3,  8, 13],\n",
    " [4,  9, 14],\n",
    " [5, 10, 15]]\n",
    "```\n",
    "with out explicitly typing it in.\n",
    "\n",
    "Now create a new array containing only its 2nd and 4th rows.\n",
    "\n",
    "\n",
    "**B.** Create a 2d array with `1` on the border and `0` on the inside, e.g., like:\n",
    "```\n",
    "1 1 1 1 1\n",
    "1 0 0 0 1\n",
    "1 0 0 0 1\n",
    "1 1 1 1 1\n",
    "```\n",
    "\n",
    "Do this using array slice notation to let it work for an arbitrary-sized array"
   ]
  },
  {
   "cell_type": "code",
   "execution_count": 2,
   "id": "bdc89726-ce89-45d0-8ff8-01f354393a72",
   "metadata": {},
   "outputs": [
    {
     "data": {
      "text/plain": [
       "array([[ 1,  6, 11],\n",
       "       [ 2,  7, 12],\n",
       "       [ 3,  8, 13],\n",
       "       [ 4,  9, 14],\n",
       "       [ 5, 10, 15]])"
      ]
     },
     "execution_count": 2,
     "metadata": {},
     "output_type": "execute_result"
    }
   ],
   "source": [
    "a = np.arange(1,16).reshape(3,5).T\n",
    "a"
   ]
  },
  {
   "cell_type": "code",
   "execution_count": 3,
   "id": "01d63cb7-14bc-4aee-97b3-1f091291a9a5",
   "metadata": {},
   "outputs": [
    {
     "data": {
      "text/plain": [
       "array([[ 2,  7, 12],\n",
       "       [ 4,  9, 14]])"
      ]
     },
     "execution_count": 3,
     "metadata": {},
     "output_type": "execute_result"
    }
   ],
   "source": [
    "a_new = a[1:4:2]\n",
    "a_new"
   ]
  },
  {
   "cell_type": "code",
   "execution_count": 4,
   "id": "8985a5d2-fd82-48d4-9067-bd23be67cfa0",
   "metadata": {},
   "outputs": [
    {
     "data": {
      "text/plain": [
       "array([[1, 1, 1, 1, 1, 1, 1, 1, 1, 1],\n",
       "       [1, 0, 0, 0, 0, 0, 0, 0, 0, 1],\n",
       "       [1, 0, 0, 0, 0, 0, 0, 0, 0, 1],\n",
       "       [1, 0, 0, 0, 0, 0, 0, 0, 0, 1],\n",
       "       [1, 1, 1, 1, 1, 1, 1, 1, 1, 1]])"
      ]
     },
     "execution_count": 4,
     "metadata": {},
     "output_type": "execute_result"
    }
   ],
   "source": [
    "c = 10 #colums\n",
    "r = 5  #rows\n",
    "b = np.zeros((r,c),dtype=int)\n",
    "\n",
    "b[0]    = 1\n",
    "b[-1]   = 1\n",
    "b[:,0]  = 1\n",
    "b[:,-1] = 1\n",
    "b"
   ]
  },
  {
   "cell_type": "code",
   "execution_count": 5,
   "id": "dd5bc25c-67f3-431c-93c1-cd9457625813",
   "metadata": {},
   "outputs": [
    {
     "data": {
      "text/plain": [
       "array([[1, 1, 1, 1, 1, 1, 1, 1, 1, 1],\n",
       "       [1, 0, 0, 0, 0, 0, 0, 0, 0, 1],\n",
       "       [1, 0, 0, 0, 0, 0, 0, 0, 0, 1],\n",
       "       [1, 0, 0, 0, 0, 0, 0, 0, 0, 1],\n",
       "       [1, 1, 1, 1, 1, 1, 1, 1, 1, 1]])"
      ]
     },
     "execution_count": 5,
     "metadata": {},
     "output_type": "execute_result"
    }
   ],
   "source": [
    "# different approach\n",
    "b = np.ones((r, c), dtype=int) \n",
    "\n",
    "b[1:-1, 1:-1] = 0  \n",
    "\n",
    "b"
   ]
  },
  {
   "cell_type": "markdown",
   "id": "493bd1d9-c1ca-4998-8a9a-3071bb8f24fb",
   "metadata": {},
   "source": [
    "## Q2: Histograms\n",
    "\n",
    "Here we will read in columns of numbers from a file and create a histogram, using NumPy routines.  Make sure you have the data file\n",
    "\"`sample.txt`\" in the same directory as this notebook. You download it from  https://raw.githubusercontent.com/sbu-python-summer/python-tutorial/master/day-3/sample.txt. \n",
    "  \n",
    "  * Use python to download a file! Check out the `requests` package\n",
    "\n",
    "  * Use `np.loadtxt()` to read this file in.  \n",
    "\n",
    "  * Next, use `np.histogram()` to create a histogram array.  The output returns both the count and an array of edges.\n",
    "  \n",
    "  * Finally, loop over the bins and print out the bin center (averaging the left and right edges of the bin) and the count for that bin."
   ]
  },
  {
   "cell_type": "code",
   "execution_count": 6,
   "id": "cde4f594-cf7d-42d1-935e-bb1a9c6029ee",
   "metadata": {},
   "outputs": [],
   "source": [
    "import requests\n",
    "\n",
    "response = requests.get(\"https://raw.githubusercontent.com/sbu-python-summer/python-tutorial/master/day-3/sample.txt\")\n",
    "\n",
    "# save the file\n",
    "with open('sample.txt', 'w') as file:\n",
    "    file.write(response.text)"
   ]
  },
  {
   "cell_type": "code",
   "execution_count": 7,
   "id": "87d9f709-e3b0-4e55-a664-a2a2de5c8353",
   "metadata": {
    "scrolled": true
   },
   "outputs": [],
   "source": [
    "text = np.loadtxt(\"sample.txt\")"
   ]
  },
  {
   "cell_type": "code",
   "execution_count": 8,
   "id": "57d991fe-5a00-4693-b339-832b22597b4e",
   "metadata": {},
   "outputs": [
    {
     "name": "stdout",
     "output_type": "stream",
     "text": [
      "Bin number 1 - bin center : -24.109006493430737 , count : 6\n",
      "Bin number 2 - bin center : -11.150163704648554 , count : 23\n",
      "Bin number 3 - bin center : 1.8086790841336278 , count : 52\n",
      "Bin number 4 - bin center : 14.767521872915811 , count : 37\n",
      "Bin number 5 - bin center : 27.726364661697996 , count : 16\n",
      "Bin number 6 - bin center : 40.68520745048018 , count : 14\n",
      "Bin number 7 - bin center : 53.64405023926236 , count : 13\n",
      "Bin number 8 - bin center : 66.60289302804455 , count : 13\n",
      "Bin number 9 - bin center : 79.56173581682673 , count : 13\n",
      "Bin number 10 - bin center : 92.5205786056089 , count : 13\n"
     ]
    }
   ],
   "source": [
    "count,edges = np.histogram(text)\n",
    "\n",
    "bin_centers = (edges[:-1] + edges[1:]) / 2\n",
    "\n",
    "for i in range(len(edges)-1):\n",
    "    print(f\"Bin number {i+1} - bin center : {bin_centers[i]} , count : {count[i]}\")"
   ]
  },
  {
   "cell_type": "markdown",
   "id": "6a7302fd-0974-4811-a561-5183fa04cbc2",
   "metadata": {},
   "source": [
    "## Q3: Are you faster than numpy? No\n",
    "\n",
    "Numpy of course has a standard deviation function, `np.std()`, but here we'll write our own that works on a 1-d array (vector).  The standard\n",
    "deviation is a measure of the \"width\" of the distribution of numbers\n",
    "in the vector.\n",
    "\n",
    "Given an array, $a$, and an average $\\bar{a}$, the standard deviation\n",
    "is:\n",
    "$$\n",
    "\\sigma = \\left [ \\frac{1}{N} \\sum_{i=1}^N (a_i - \\bar{a})^2 \\right ]^{1/2}\n",
    "$$\n",
    "\n",
    "Write a function to calculate the standard deviation for an input array, `a`:\n",
    "\n",
    "  * First compute the average of the elements in `a` to define $\\bar{a}$\n",
    "  * Next compute the sum over the squares of $a - \\bar{a}$\n",
    "  * Then divide the sum by the number of elements in the array\n",
    "  * Finally take the square root (you can use `np.sqrt()`)\n",
    "  \n",
    "Test your function on a random array, and compare to the built-in `np.std()`. Check the runtime as well."
   ]
  },
  {
   "cell_type": "code",
   "execution_count": 9,
   "id": "28e08f07-f82b-43ff-aa52-d344a5bac998",
   "metadata": {},
   "outputs": [
    {
     "data": {
      "text/plain": [
       "array([0.00000e+00, 1.00001e-02, 2.00002e-02, ..., 9.99980e+02,\n",
       "       9.99990e+02, 1.00000e+03])"
      ]
     },
     "execution_count": 9,
     "metadata": {},
     "output_type": "execute_result"
    }
   ],
   "source": [
    "a  = np.linspace(0, 1000, 100000, endpoint=True)\n",
    "a"
   ]
  },
  {
   "cell_type": "code",
   "execution_count": 10,
   "id": "f5d15266-f05e-45ef-b2e8-40b058837f01",
   "metadata": {},
   "outputs": [],
   "source": [
    "def standard_dev (a):\n",
    "    a_ = np.mean(a)\n",
    "    sum_square = np.sum((a - a_) ** 2)\n",
    "    variance = sum_square / len(a)\n",
    "\n",
    "    return np.sqrt(variance)"
   ]
  },
  {
   "cell_type": "code",
   "execution_count": 11,
   "id": "01b78fc5-47a0-452e-8958-f57c9a9537b4",
   "metadata": {},
   "outputs": [
    {
     "name": "stdout",
     "output_type": "stream",
     "text": [
      "time elapsed: 0.005008220672607422 s\n"
     ]
    }
   ],
   "source": [
    "# my function\n",
    "\n",
    "import time\n",
    "\n",
    "\n",
    "t0 = time.time()\n",
    "\n",
    "stv_dev_mine = standard_dev(a)\n",
    "\n",
    "t1 = time.time()\n",
    "print(\"time elapsed: {} s\".format(t1-t0))"
   ]
  },
  {
   "cell_type": "code",
   "execution_count": 12,
   "id": "8d4951bf-16f9-4362-a4d0-26ebc476bc2b",
   "metadata": {},
   "outputs": [
    {
     "name": "stdout",
     "output_type": "stream",
     "text": [
      "time elapsed: 0.004006624221801758 s\n"
     ]
    }
   ],
   "source": [
    "# numpy\n",
    "\n",
    "t0 = time.time()\n",
    "\n",
    "stv_dev = np.std(a)\n",
    "\n",
    "t1 = time.time()\n",
    "print(\"time elapsed: {} s\".format(t1-t0)) # faster"
   ]
  },
  {
   "cell_type": "code",
   "execution_count": null,
   "id": "5d74c06e-4bce-4ba5-a2ae-f775c2de38ff",
   "metadata": {},
   "outputs": [],
   "source": []
  },
  {
   "cell_type": "code",
   "execution_count": null,
   "id": "3a1d871d-f179-488f-a896-3d4fa96713cc",
   "metadata": {},
   "outputs": [],
   "source": []
  }
 ],
 "metadata": {
  "kernelspec": {
   "display_name": "Python 3 (ipykernel)",
   "language": "python",
   "name": "python3"
  },
  "language_info": {
   "codemirror_mode": {
    "name": "ipython",
    "version": 3
   },
   "file_extension": ".py",
   "mimetype": "text/x-python",
   "name": "python",
   "nbconvert_exporter": "python",
   "pygments_lexer": "ipython3",
   "version": "3.11.5"
  }
 },
 "nbformat": 4,
 "nbformat_minor": 5
}
