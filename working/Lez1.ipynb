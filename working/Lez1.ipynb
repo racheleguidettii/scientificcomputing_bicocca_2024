{
 "cells": [
  {
   "cell_type": "markdown",
   "id": "ecf488cc-8854-4023-b43e-a8a459ec6a0a",
   "metadata": {},
   "source": [
    "## Lecture 1 - exercises\n"
   ]
  },
  {
   "cell_type": "markdown",
   "id": "ed8540ef-6047-4627-8e8a-2daf27dadffb",
   "metadata": {},
   "source": [
    "## Q1: Machine precision\n",
    "\n",
    "When talking about floating point, we discussed _machine epsilon_, $\\epsilon$&mdash;this is the smallest number that when added to 1 is still different from 1.\n",
    "\n",
    "We'll compute $\\epsilon$ here:\n",
    "\n",
    "  * Pick an initial guess for $\\epsilon$ of `eps = 1`.  \n",
    "\n",
    "  * Create a loop that checks whether `1 + eps` is different from `1`\n",
    "  \n",
    "  * Each loop iteration, cut the value of `eps` in half\n",
    "  \n",
    "What value of $\\epsilon$ do you find?\n",
    "\n"
   ]
  },
  {
   "cell_type": "code",
   "execution_count": 1,
   "id": "cda4dd03-19ea-4b3f-b06b-4476fe9b49b9",
   "metadata": {},
   "outputs": [
    {
     "data": {
      "text/plain": [
       "1.1102230246251565e-16"
      ]
     },
     "execution_count": 1,
     "metadata": {},
     "output_type": "execute_result"
    }
   ],
   "source": [
    "epsilon = 1.0\n",
    "while (1 + epsilon) != 1.0:\n",
    "    epsilon = epsilon / 2.0\n",
    "\n",
    "epsilon"
   ]
  },
  {
   "cell_type": "markdown",
   "id": "8cec378c-fba9-414f-a494-9b9196d2157a",
   "metadata": {},
   "source": [
    "## Q2: Iterations\n",
    "\n",
    "### Part 1\n",
    "\n",
    "To iterate over the tuples, where the _i_-th tuple contains the _i_-th elements of certain sequences, we can use `zip(*sequences)` function.\n",
    "\n",
    "We will iterate over two lists, `names` and `age`, and print out the resulting tuples.\n",
    "\n",
    "  * Start by initializing lists `names = [\"Mary\", \"John\", \"Sarah\"]` and `age = [21, 56, 98]`.\n",
    "  \n",
    "  * Iterate over the tuples containing a name and an age, the `zip(list1, list2)` function might be useful here.\n",
    "  \n",
    "  * Print out formatted strings of the type \"*NAME is AGE years old*\".\n",
    "  \n",
    "\n",
    "### Part 2\n",
    "\n",
    "The function `enumerate(sequence)` returns tuples containing indices of objects in the sequence, and the objects. \n",
    "\n",
    "The `random` module provides tools for working with the random numbers. In particular, `random.randint(start, end)` generates a random number not smaller than `start`, and not bigger than `end`.\n",
    "\n",
    "  * Generate a list of 10 random numbers from 0 to 9.\n",
    "  \n",
    "  * Using the `enumerate(random_list)` function, iterate over the tuples of random numbers and their indices, and print out *\"Match: NUMBER and INDEX\"* if the random number and its index in the list match."
   ]
  },
  {
   "cell_type": "code",
   "execution_count": 2,
   "id": "35c3c8ef-ab1c-4a8d-ace0-7db6f8e28bbc",
   "metadata": {},
   "outputs": [
    {
     "name": "stdout",
     "output_type": "stream",
     "text": [
      "Mary is 21 years old\n",
      "John is 56 years old\n",
      "Sarah is 98 years old\n"
     ]
    }
   ],
   "source": [
    "# PART 1\n",
    "names = [\"Mary\", \"John\", \"Sarah\"]\n",
    "age = [21, 56, 98]\n",
    "\n",
    "\n",
    "for n,a in zip(names,age):\n",
    "    print(f\"{n} is {a} years old\")"
   ]
  },
  {
   "cell_type": "code",
   "execution_count": 3,
   "id": "e4a09d7c-0e26-4980-9020-d15228a3402a",
   "metadata": {},
   "outputs": [
    {
     "name": "stdout",
     "output_type": "stream",
     "text": [
      "[6, 2, 5, 0, 5, 9, 6, 9, 5, 4]\n"
     ]
    }
   ],
   "source": [
    "import random\n",
    "\n",
    "random_num = [random.randint(0, 9) for _ in range(10)] \n",
    "    \n",
    "print(random_num)"
   ]
  },
  {
   "cell_type": "code",
   "execution_count": 4,
   "id": "c2be5aa7-c10d-445d-9f4d-3358fdc49333",
   "metadata": {},
   "outputs": [
    {
     "name": "stdout",
     "output_type": "stream",
     "text": [
      "Match: NUMBER 6 and INDEX 6\n"
     ]
    }
   ],
   "source": [
    "for n, a in enumerate(random_num):\n",
    "    if n == a:\n",
    "        print(f\"Match: NUMBER {a} and INDEX {n}\")"
   ]
  },
  {
   "cell_type": "markdown",
   "id": "d44fca19-3cdf-43be-9d56-32d779846686",
   "metadata": {},
   "source": [
    "## Q3: Books\n",
    "\n",
    "Here is a list of book titles (from http://thegreatestbooks.org).  Loop through the list and capitalize each word in each title. ."
   ]
  },
  {
   "cell_type": "code",
   "execution_count": 1,
   "id": "ee924316-6b90-4b2d-abcb-f7282967da53",
   "metadata": {},
   "outputs": [],
   "source": [
    "titles = [\"don quixote\", \n",
    "          \"in search of lost time\", \n",
    "          \"ulysses\", \n",
    "          \"the odyssey\", \n",
    "          \"war and peace\", \n",
    "          \"moby dick\", \n",
    "          \"the divine comedy\", \n",
    "          \"hamlet\", \n",
    "          \"the adventures of huckleberry finn\", \n",
    "          \"the great gatsby\"]"
   ]
  },
  {
   "cell_type": "code",
   "execution_count": 3,
   "id": "9fea947b-ee3a-4117-a7df-df19b1ee4874",
   "metadata": {},
   "outputs": [
    {
     "data": {
      "text/plain": [
       "['Don Quixote',\n",
       " 'In Search Of Lost Time',\n",
       " 'Ulysses',\n",
       " 'The Odyssey',\n",
       " 'War And Peace',\n",
       " 'Moby Dick',\n",
       " 'The Divine Comedy',\n",
       " 'Hamlet',\n",
       " 'The Adventures Of Huckleberry Finn',\n",
       " 'The Great Gatsby']"
      ]
     },
     "execution_count": 3,
     "metadata": {},
     "output_type": "execute_result"
    }
   ],
   "source": [
    "for i in range(len(titles)):\n",
    "    titles[i] = titles[i].title()\n",
    "\n",
    "titles"
   ]
  },
  {
   "cell_type": "markdown",
   "id": "13c85732-ec23-4aef-97a4-0bb8b26a3f95",
   "metadata": {},
   "source": [
    "## Q4: Word counts\n",
    "\n",
    "Here's some text (the Gettysburg Address).  Our goal is to count how many times each word repeats.  We'll do a brute force method first, and then we'll look at ways to do it more efficiently (and compactly)."
   ]
  },
  {
   "cell_type": "code",
   "execution_count": 7,
   "id": "8b2acb3a-adf6-4b4e-8c3a-9509c4790f3b",
   "metadata": {},
   "outputs": [],
   "source": [
    "gettysburg_address = \"\"\"\n",
    "Four score and seven years ago our fathers brought forth on this continent, \n",
    "a new nation, conceived in Liberty, and dedicated to the proposition that \n",
    "all men are created equal.\n",
    "\n",
    "Now we are engaged in a great civil war, testing whether that nation, or \n",
    "any nation so conceived and so dedicated, can long endure. We are met on\n",
    "a great battle-field of that war. We have come to dedicate a portion of\n",
    "that field, as a final resting place for those who here gave their lives\n",
    "that that nation might live. It is altogether fitting and proper that we\n",
    "should do this.\n",
    "\n",
    "But, in a larger sense, we can not dedicate -- we can not consecrate -- we\n",
    "can not hallow -- this ground. The brave men, living and dead, who struggled\n",
    "here, have consecrated it, far above our poor power to add or detract.  The\n",
    "world will little note, nor long remember what we say here, but it can never\n",
    "forget what they did here. It is for us the living, rather, to be dedicated\n",
    "here to the unfinished work which they who fought here have thus far so nobly\n",
    "advanced. It is rather for us to be here dedicated to the great task remaining\n",
    "before us -- that from these honored dead we take increased devotion to that\n",
    "cause for which they gave the last full measure of devotion -- that we here\n",
    "highly resolve that these dead shall not have died in vain -- that this\n",
    "nation, under God, shall have a new birth of freedom -- and that government\n",
    "of the people, by the people, for the people, shall not perish from the earth.\n",
    "\"\"\""
   ]
  },
  {
   "cell_type": "code",
   "execution_count": 8,
   "id": "f7c34819-f7b6-4697-a96b-41403149afc3",
   "metadata": {
    "scrolled": true
   },
   "outputs": [
    {
     "data": {
      "text/plain": [
       "['Four',\n",
       " 'score',\n",
       " 'and',\n",
       " 'seven',\n",
       " 'years',\n",
       " 'ago',\n",
       " 'our',\n",
       " 'fathers',\n",
       " 'brought',\n",
       " 'forth',\n",
       " 'on',\n",
       " 'this',\n",
       " 'continent,',\n",
       " 'a',\n",
       " 'new',\n",
       " 'nation,',\n",
       " 'conceived',\n",
       " 'in',\n",
       " 'Liberty,',\n",
       " 'and',\n",
       " 'dedicated',\n",
       " 'to',\n",
       " 'the',\n",
       " 'proposition',\n",
       " 'that',\n",
       " 'all',\n",
       " 'men',\n",
       " 'are',\n",
       " 'created',\n",
       " 'equal.',\n",
       " 'Now',\n",
       " 'we',\n",
       " 'are',\n",
       " 'engaged',\n",
       " 'in',\n",
       " 'a',\n",
       " 'great',\n",
       " 'civil',\n",
       " 'war,',\n",
       " 'testing',\n",
       " 'whether',\n",
       " 'that',\n",
       " 'nation,',\n",
       " 'or',\n",
       " 'any',\n",
       " 'nation',\n",
       " 'so',\n",
       " 'conceived',\n",
       " 'and',\n",
       " 'so',\n",
       " 'dedicated,',\n",
       " 'can',\n",
       " 'long',\n",
       " 'endure.',\n",
       " 'We',\n",
       " 'are',\n",
       " 'met',\n",
       " 'on',\n",
       " 'a',\n",
       " 'great',\n",
       " 'battle-field',\n",
       " 'of',\n",
       " 'that',\n",
       " 'war.',\n",
       " 'We',\n",
       " 'have',\n",
       " 'come',\n",
       " 'to',\n",
       " 'dedicate',\n",
       " 'a',\n",
       " 'portion',\n",
       " 'of',\n",
       " 'that',\n",
       " 'field,',\n",
       " 'as',\n",
       " 'a',\n",
       " 'final',\n",
       " 'resting',\n",
       " 'place',\n",
       " 'for',\n",
       " 'those',\n",
       " 'who',\n",
       " 'here',\n",
       " 'gave',\n",
       " 'their',\n",
       " 'lives',\n",
       " 'that',\n",
       " 'that',\n",
       " 'nation',\n",
       " 'might',\n",
       " 'live.',\n",
       " 'It',\n",
       " 'is',\n",
       " 'altogether',\n",
       " 'fitting',\n",
       " 'and',\n",
       " 'proper',\n",
       " 'that',\n",
       " 'we',\n",
       " 'should',\n",
       " 'do',\n",
       " 'this.',\n",
       " 'But,',\n",
       " 'in',\n",
       " 'a',\n",
       " 'larger',\n",
       " 'sense,',\n",
       " 'we',\n",
       " 'can',\n",
       " 'not',\n",
       " 'dedicate',\n",
       " '--',\n",
       " 'we',\n",
       " 'can',\n",
       " 'not',\n",
       " 'consecrate',\n",
       " '--',\n",
       " 'we',\n",
       " 'can',\n",
       " 'not',\n",
       " 'hallow',\n",
       " '--',\n",
       " 'this',\n",
       " 'ground.',\n",
       " 'The',\n",
       " 'brave',\n",
       " 'men,',\n",
       " 'living',\n",
       " 'and',\n",
       " 'dead,',\n",
       " 'who',\n",
       " 'struggled',\n",
       " 'here,',\n",
       " 'have',\n",
       " 'consecrated',\n",
       " 'it,',\n",
       " 'far',\n",
       " 'above',\n",
       " 'our',\n",
       " 'poor',\n",
       " 'power',\n",
       " 'to',\n",
       " 'add',\n",
       " 'or',\n",
       " 'detract.',\n",
       " 'The',\n",
       " 'world',\n",
       " 'will',\n",
       " 'little',\n",
       " 'note,',\n",
       " 'nor',\n",
       " 'long',\n",
       " 'remember',\n",
       " 'what',\n",
       " 'we',\n",
       " 'say',\n",
       " 'here,',\n",
       " 'but',\n",
       " 'it',\n",
       " 'can',\n",
       " 'never',\n",
       " 'forget',\n",
       " 'what',\n",
       " 'they',\n",
       " 'did',\n",
       " 'here.',\n",
       " 'It',\n",
       " 'is',\n",
       " 'for',\n",
       " 'us',\n",
       " 'the',\n",
       " 'living,',\n",
       " 'rather,',\n",
       " 'to',\n",
       " 'be',\n",
       " 'dedicated',\n",
       " 'here',\n",
       " 'to',\n",
       " 'the',\n",
       " 'unfinished',\n",
       " 'work',\n",
       " 'which',\n",
       " 'they',\n",
       " 'who',\n",
       " 'fought',\n",
       " 'here',\n",
       " 'have',\n",
       " 'thus',\n",
       " 'far',\n",
       " 'so',\n",
       " 'nobly',\n",
       " 'advanced.',\n",
       " 'It',\n",
       " 'is',\n",
       " 'rather',\n",
       " 'for',\n",
       " 'us',\n",
       " 'to',\n",
       " 'be',\n",
       " 'here',\n",
       " 'dedicated',\n",
       " 'to',\n",
       " 'the',\n",
       " 'great',\n",
       " 'task',\n",
       " 'remaining',\n",
       " 'before',\n",
       " 'us',\n",
       " '--',\n",
       " 'that',\n",
       " 'from',\n",
       " 'these',\n",
       " 'honored',\n",
       " 'dead',\n",
       " 'we',\n",
       " 'take',\n",
       " 'increased',\n",
       " 'devotion',\n",
       " 'to',\n",
       " 'that',\n",
       " 'cause',\n",
       " 'for',\n",
       " 'which',\n",
       " 'they',\n",
       " 'gave',\n",
       " 'the',\n",
       " 'last',\n",
       " 'full',\n",
       " 'measure',\n",
       " 'of',\n",
       " 'devotion',\n",
       " '--',\n",
       " 'that',\n",
       " 'we',\n",
       " 'here',\n",
       " 'highly',\n",
       " 'resolve',\n",
       " 'that',\n",
       " 'these',\n",
       " 'dead',\n",
       " 'shall',\n",
       " 'not',\n",
       " 'have',\n",
       " 'died',\n",
       " 'in',\n",
       " 'vain',\n",
       " '--',\n",
       " 'that',\n",
       " 'this',\n",
       " 'nation,',\n",
       " 'under',\n",
       " 'God,',\n",
       " 'shall',\n",
       " 'have',\n",
       " 'a',\n",
       " 'new',\n",
       " 'birth',\n",
       " 'of',\n",
       " 'freedom',\n",
       " '--',\n",
       " 'and',\n",
       " 'that',\n",
       " 'government',\n",
       " 'of',\n",
       " 'the',\n",
       " 'people,',\n",
       " 'by',\n",
       " 'the',\n",
       " 'people,',\n",
       " 'for',\n",
       " 'the',\n",
       " 'people,',\n",
       " 'shall',\n",
       " 'not',\n",
       " 'perish',\n",
       " 'from',\n",
       " 'the',\n",
       " 'earth.']"
      ]
     },
     "execution_count": 8,
     "metadata": {},
     "output_type": "execute_result"
    }
   ],
   "source": [
    "ga = gettysburg_address.split()\n",
    "\n",
    "ga"
   ]
  },
  {
   "cell_type": "code",
   "execution_count": 9,
   "id": "dcf92803-6d6c-45c9-aaf0-1ca331c00b3d",
   "metadata": {
    "scrolled": true
   },
   "outputs": [
    {
     "name": "stdout",
     "output_type": "stream",
     "text": [
      "'four': 1\n",
      "'score': 1\n",
      "'and': 6\n",
      "'seven': 1\n",
      "'years': 1\n",
      "'ago': 1\n",
      "'our': 2\n",
      "'fathers': 1\n",
      "'brought': 1\n",
      "'forth': 1\n",
      "'on': 2\n",
      "'this': 4\n",
      "'continent': 1\n",
      "'a': 7\n",
      "'new': 2\n",
      "'nation': 5\n",
      "'conceived': 2\n",
      "'in': 4\n",
      "'liberty': 1\n",
      "'dedicated': 4\n",
      "'to': 8\n",
      "'the': 11\n",
      "'proposition': 1\n",
      "'that': 13\n",
      "'all': 1\n",
      "'men': 2\n",
      "'are': 3\n",
      "'created': 1\n",
      "'equal': 1\n",
      "'now': 1\n",
      "'we': 10\n",
      "'engaged': 1\n",
      "'great': 3\n",
      "'civil': 1\n",
      "'war': 2\n",
      "'testing': 1\n",
      "'whether': 1\n",
      "'or': 2\n",
      "'any': 1\n",
      "'so': 3\n",
      "'can': 5\n",
      "'long': 2\n",
      "'endure': 1\n",
      "'met': 1\n",
      "'battle-field': 1\n",
      "'of': 5\n",
      "'have': 5\n",
      "'come': 1\n",
      "'dedicate': 2\n",
      "'portion': 1\n",
      "'field': 1\n",
      "'as': 1\n",
      "'final': 1\n",
      "'resting': 1\n",
      "'place': 1\n",
      "'for': 5\n",
      "'those': 1\n",
      "'who': 3\n",
      "'here': 8\n",
      "'gave': 2\n",
      "'their': 1\n",
      "'lives': 1\n",
      "'might': 1\n",
      "'live': 1\n",
      "'it': 5\n",
      "'is': 3\n",
      "'altogether': 1\n",
      "'fitting': 1\n",
      "'proper': 1\n",
      "'should': 1\n",
      "'do': 1\n",
      "'but': 2\n",
      "'larger': 1\n",
      "'sense': 1\n",
      "'not': 5\n",
      "'--': 7\n",
      "'consecrate': 1\n",
      "'hallow': 1\n",
      "'ground': 1\n",
      "'brave': 1\n",
      "'living': 2\n",
      "'dead': 3\n",
      "'struggled': 1\n",
      "'consecrated': 1\n",
      "'far': 2\n",
      "'above': 1\n",
      "'poor': 1\n",
      "'power': 1\n",
      "'add': 1\n",
      "'detract': 1\n",
      "'world': 1\n",
      "'will': 1\n",
      "'little': 1\n",
      "'note': 1\n",
      "'nor': 1\n",
      "'remember': 1\n",
      "'what': 2\n",
      "'say': 1\n",
      "'never': 1\n",
      "'forget': 1\n",
      "'they': 3\n",
      "'did': 1\n",
      "'us': 3\n",
      "'rather': 2\n",
      "'be': 2\n",
      "'unfinished': 1\n",
      "'work': 1\n",
      "'which': 2\n",
      "'fought': 1\n",
      "'thus': 1\n",
      "'nobly': 1\n",
      "'advanced': 1\n",
      "'task': 1\n",
      "'remaining': 1\n",
      "'before': 1\n",
      "'from': 2\n",
      "'these': 2\n",
      "'honored': 1\n",
      "'take': 1\n",
      "'increased': 1\n",
      "'devotion': 2\n",
      "'cause': 1\n",
      "'last': 1\n",
      "'full': 1\n",
      "'measure': 1\n",
      "'highly': 1\n",
      "'resolve': 1\n",
      "'shall': 3\n",
      "'died': 1\n",
      "'vain': 1\n",
      "'under': 1\n",
      "'god': 1\n",
      "'birth': 1\n",
      "'freedom': 1\n",
      "'government': 1\n",
      "'people': 3\n",
      "'by': 1\n",
      "'perish': 1\n",
      "'earth': 1\n"
     ]
    }
   ],
   "source": [
    "word_dict = {}\n",
    "keys = list(word_dict.keys())\n",
    "\n",
    "\n",
    "for word in (ga):\n",
    "    word = word.replace(\".\", \"\").replace(\",\", \"\")\n",
    "    word = word.lower()\n",
    "\n",
    "\n",
    "    if word in word_dict:\n",
    "        word_dict[word] += 1 \n",
    "        \n",
    "    else:\n",
    "        word_dict[word] = 1\n",
    "\n",
    "for key, value in word_dict.items():\n",
    "    print(f\"'{key}': {value}\")"
   ]
  },
  {
   "cell_type": "markdown",
   "id": "06c9db50-ee55-4b9b-8a82-3eb624f056bd",
   "metadata": {},
   "source": [
    "## Q5: Foxes and dogs\n",
    "\n",
    "### Part 1. Short words\n",
    "\n",
    "Let's practice functions.  Write a version of this function that takes a second argument, n, that is the word length we want to search for"
   ]
  },
  {
   "cell_type": "code",
   "execution_count": 10,
   "id": "49b82b88-090e-4354-bac7-1553691f76d3",
   "metadata": {},
   "outputs": [],
   "source": [
    "def word_length_words(message, n):\n",
    "    words = message.split()\n",
    "    word_lenght =  [w for w in words if len(w) == n]\n",
    "    return word_lenght"
   ]
  },
  {
   "cell_type": "code",
   "execution_count": 11,
   "id": "71558b60-5253-4b80-b14e-0d1a9c40bd7e",
   "metadata": {},
   "outputs": [
    {
     "name": "stdout",
     "output_type": "stream",
     "text": [
      "['over', 'lazy']\n"
     ]
    }
   ],
   "source": [
    "message = \"The quick brown fox jumps over the lazy dog\"\n",
    "print(word_length_words(message, 4))\n"
   ]
  },
  {
   "cell_type": "markdown",
   "id": "d8a99568-5fa6-481a-8ad4-89e6111c51c5",
   "metadata": {},
   "source": [
    "### Part 2: Panagrams\n",
    "\n",
    "A _panagram_ is a sentence that includes all 26 letters of the alphabet, e.g., \"_The quick brown fox jumps over the lazy dog_.\"\n",
    "\n",
    "Write a function that takes as an argument a sentence and returns `True` or `False`, indicating whether the sentence is a panagram."
   ]
  },
  {
   "cell_type": "code",
   "execution_count": 12,
   "id": "8a0488c2-b796-4ec6-baf6-ee7a0dee4b1c",
   "metadata": {},
   "outputs": [],
   "source": [
    "alphabeth = list(\"abcdefghijklmnopqrstuvwxyz\")\n",
    "\n",
    "def panagram(message):\n",
    "\n",
    "    # I remove punctuation and convert to lower case, then i convert to a list\n",
    "    message = message.replace(\".\", \"\").replace(\",\", \"\") \n",
    "    message = message.lower()\n",
    "    message = list(message)\n",
    "\n",
    "\n",
    "    count = 0 #count for how many alphabet letters I find\n",
    "    \n",
    "    for letter in alphabeth:  \n",
    "        if letter in message:  \n",
    "            count += 1\n",
    "\n",
    "    #if I found as many letters as the ones in the alphabeth (so the message containes every letter)\n",
    "    if count == len(alphabeth):\n",
    "        return True\n",
    "    else:\n",
    "        return False\n",
    "    "
   ]
  },
  {
   "cell_type": "code",
   "execution_count": 13,
   "id": "3241dff3-9c2b-4425-93f4-09761efb207f",
   "metadata": {},
   "outputs": [
    {
     "data": {
      "text/plain": [
       "True"
      ]
     },
     "execution_count": 13,
     "metadata": {},
     "output_type": "execute_result"
    }
   ],
   "source": [
    "panagram(message)"
   ]
  },
  {
   "cell_type": "code",
   "execution_count": 14,
   "id": "ebcc76c9-35e4-4f5a-a225-10183f79e9f0",
   "metadata": {},
   "outputs": [
    {
     "data": {
      "text/plain": [
       "False"
      ]
     },
     "execution_count": 14,
     "metadata": {},
     "output_type": "execute_result"
    }
   ],
   "source": [
    "panagram(\"Hello\")"
   ]
  },
  {
   "cell_type": "markdown",
   "id": "b6327063-6c7a-4545-9ea7-1a9327e379ee",
   "metadata": {},
   "source": [
    "### Ex 6"
   ]
  },
  {
   "cell_type": "markdown",
   "id": "cf12d04e-8092-4235-bc51-08af39abfb92",
   "metadata": {},
   "source": [
    "Write a function, convert_type(a) that takes a string a, and converts it to a float if it is a number with a decimal point, an int if it is an integer, or leaves it as a string otherwise, and returns the result. You'll want to use exceptions to prevent the code from aborting"
   ]
  },
  {
   "cell_type": "code",
   "execution_count": 15,
   "id": "48f1b7f6-6870-4ea3-b796-7445f81d7a9e",
   "metadata": {},
   "outputs": [],
   "source": [
    "def convert_type(a):\n",
    "    b = list(a)\n",
    "    \n",
    "    try: \n",
    "        if \".\" in b:\n",
    "            a = float(a)\n",
    "        else:\n",
    "            a = int(a)\n",
    "        return a, type(a)\n",
    "    \n",
    "    except ValueError: \n",
    "        return a, type(a)"
   ]
  },
  {
   "cell_type": "code",
   "execution_count": 16,
   "id": "145753f1-9319-4736-9a48-cf820c749e01",
   "metadata": {},
   "outputs": [
    {
     "data": {
      "text/plain": [
       "(2.4, float)"
      ]
     },
     "execution_count": 16,
     "metadata": {},
     "output_type": "execute_result"
    }
   ],
   "source": [
    "a = \"2.4\"\n",
    "convert_type(a)"
   ]
  },
  {
   "cell_type": "code",
   "execution_count": 17,
   "id": "fb262b73-943f-4aa5-aad1-bdc8446bf8d1",
   "metadata": {},
   "outputs": [
    {
     "data": {
      "text/plain": [
       "(2, int)"
      ]
     },
     "execution_count": 17,
     "metadata": {},
     "output_type": "execute_result"
    }
   ],
   "source": [
    "a = \"2\"\n",
    "convert_type(a)"
   ]
  },
  {
   "cell_type": "code",
   "execution_count": 18,
   "id": "35a51cfe-88de-41da-964c-d5d7667e1a34",
   "metadata": {},
   "outputs": [
    {
     "data": {
      "text/plain": [
       "('hello', str)"
      ]
     },
     "execution_count": 18,
     "metadata": {},
     "output_type": "execute_result"
    }
   ],
   "source": [
    "a = \"hello\"\n",
    "convert_type(a)"
   ]
  },
  {
   "cell_type": "code",
   "execution_count": null,
   "id": "bc61fddd-1305-4de7-8045-1befda48ea9d",
   "metadata": {},
   "outputs": [],
   "source": []
  }
 ],
 "metadata": {
  "kernelspec": {
   "display_name": "Python 3 (ipykernel)",
   "language": "python",
   "name": "python3"
  },
  "language_info": {
   "codemirror_mode": {
    "name": "ipython",
    "version": 3
   },
   "file_extension": ".py",
   "mimetype": "text/x-python",
   "name": "python",
   "nbconvert_exporter": "python",
   "pygments_lexer": "ipython3",
   "version": "3.11.5"
  }
 },
 "nbformat": 4,
 "nbformat_minor": 5
}
