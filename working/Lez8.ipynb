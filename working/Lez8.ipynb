{
 "cells": [
  {
   "cell_type": "markdown",
   "id": "e0284a38-d85c-4702-93db-dcecebb7a776",
   "metadata": {},
   "source": [
    "\n",
    "\n",
    "# Exercises\n",
    "\n",
    "## Q1: I love pip \n",
    "\n",
    "- Take a piece of python code you wrote (for instance pick one of the exercises you've done for this class). \n",
    "- Turn it into a module\n",
    "- Install it locally\n",
    "- Deploy on pypi (only using the test-pypi server!)"
   ]
  },
  {
   "cell_type": "code",
   "execution_count": 2,
   "id": "093003e4-d67e-4d19-868b-d4c721094be1",
   "metadata": {},
   "outputs": [],
   "source": [
    "import argparse\n",
    "import numpy as np\n",
    "import matplotlib.pyplot as plt"
   ]
  },
  {
   "cell_type": "markdown",
   "id": "b18a3e0c-210f-402e-bb00-eb4ba9b3cdbc",
   "metadata": {},
   "source": [
    "**I created the module `mymodule` which contains:**"
   ]
  },
  {
   "cell_type": "markdown",
   "id": "4621fcc7-6ef6-48c0-9eb3-404bb27168a8",
   "metadata": {},
   "source": [
    "```\n",
    "def sincos(x, save_fig=True, plot_type=\"both\"):\n",
    "    '''Function that calculates the sin and cos of an array x and plots and saves a figure containing the sine, cosine, or both.'''\n",
    "    \n",
    "    sin = np.sin(x)\n",
    "    cos = np.cos(x)\n",
    "\n",
    "    if save_fig:\n",
    "        # Plotting both sine and cosine\n",
    "        if plot_type == \"both\":\n",
    "            plt.plot(x, sin, label='sin(x)')\n",
    "            plt.plot(x, cos, label='cos(x)')\n",
    "            plt.legend()\n",
    "            plt.savefig(\"sincos.pdf\")\n",
    "            print(\"Figure saved as 'sincos.pdf'\")\n",
    "        \n",
    "        # Plotting sine only\n",
    "        elif plot_type == \"sin\":\n",
    "            plt.plot(x, sin, label='sin(x)')\n",
    "            plt.legend()\n",
    "            plt.savefig(\"sin.pdf\")\n",
    "            print(\"Figure saved as 'sin.pdf'\")\n",
    "\n",
    "        # Plotting cosine only\n",
    "        elif plot_type == \"cos\":\n",
    "            plt.plot(x, cos, label='cos(x)')\n",
    "            plt.legend()\n",
    "            plt.savefig(\"cos.pdf\")\n",
    "            print(\"Figure saved as 'cos.pdf'\")\n",
    "\n",
    "        # Error\n",
    "        else:\n",
    "            print(\"Invalid plot type. Please choose 'sin', 'cos', or 'both'.\")\n",
    "            return\n",
    "        \n",
    "        plt.show()\n",
    "    \n",
    "    else:\n",
    "        print(\"No plot generated.\")\n",
    "    \n",
    "    return sin, cos\n",
    "\n",
    "def parse_arguments():\n",
    "    parser = argparse.ArgumentParser()\n",
    "    parser.add_argument(\"--save\", help=\"Save the plot as a PDF (default: True)\", action=\"store_true\", default=True)\n",
    "    parser.add_argument(\"--plot\", help=\"Type of plot: 'sin', 'cos', or 'both' (default: both)\", type=str, default=\"both\")\n",
    "    return parser.parse_args()\n",
    "\n",
    "\n",
    "if __name__ == \"__main__\":\n",
    "    args = parse_arguments()\n",
    "    x = np.linspace(0, 2 * np.pi, 100)\n",
    "    sincos(x, save_fig=args.save, plot_type=args.plot)\n",
    "\n",
    "\n",
    "# some examples\n",
    "# python .\\mymodule.py -> generates and save sin + cos\n",
    "# python .\\mymodule.py --plot sin -> to generate and save sin only (ex)\n",
    "# python .\\mymodule.py --plot both --no-save -> to generate and not save sin + cos (ex)\n",
    "\n",
    "```"
   ]
  },
  {
   "cell_type": "markdown",
   "id": "b25fe324-6dfc-4b74-9d88-69fe058833e0",
   "metadata": {},
   "source": [
    "**Then I organised the directory as follows:**\n",
    "\n",
    "```\n",
    "modulescicompclassr\n",
    "├── modulescicompclassr\n",
    "│   ├── __init__.py\n",
    "│   └── mymodule.py\n",
    "└── README.md\n",
    "└── setup.py\n",
    "```\n",
    "\n",
    "<br>\n",
    "\n",
    "**`setup.py`:**\n",
    "```\n",
    "from setuptools import setup, find_packages\n",
    "\n",
    "setup(name='modulescicompclassr',\n",
    "      description='test module for the SciComp class',\n",
    "      url='https://github.com/racheleguidettii',\n",
    "      author='Rachele Guidetti',\n",
    "      author_email='r.guidetti@campus.unimib.it',\n",
    "      license='MIT',\n",
    "      version='0.0.1',\n",
    "      packages=find_packages(),\n",
    "      install_requires=['numpy', 'matplotlib'])\n",
    "```\n",
    "<br>\n",
    "\n",
    "**while `README.md` and `_init_.py` are empty**"
   ]
  },
  {
   "cell_type": "markdown",
   "id": "1a28a2cb-ca33-40c2-8d1d-a7cc2f755f79",
   "metadata": {},
   "source": [
    "**In the `modulescicompclassr`, I execute** \n",
    "```\n",
    "python setup.py install\n",
    "python setup.py develop\n",
    "```"
   ]
  },
  {
   "cell_type": "markdown",
   "id": "faff2202-a1c3-461d-bb25-d5b1dec98edb",
   "metadata": {},
   "source": [
    "**Installation** "
   ]
  },
  {
   "cell_type": "code",
   "execution_count": 8,
   "id": "0ba2b570-78a5-4559-8d17-945b820a9e96",
   "metadata": {},
   "outputs": [],
   "source": [
    "#pip install C:\\Users\\guide\\Documents\\modulescicompclassr"
   ]
  },
  {
   "cell_type": "code",
   "execution_count": 9,
   "id": "7de65307-3c07-458c-874b-9892c67daaec",
   "metadata": {},
   "outputs": [
    {
     "name": "stdout",
     "output_type": "stream",
     "text": [
      "Name: modulescicompclassr\n",
      "Version: 0.0.1\n",
      "Summary: test module for the SciComp class\n",
      "Home-page: https://github.com/racheleguidettii\n",
      "Author: Rachele Guidetti\n",
      "Author-email: r.guidetti@campus.unimib.it\n",
      "License: MIT\n",
      "Location: C:\\Users\\guide\\anaconda3\\Lib\\site-packages\n",
      "Requires: matplotlib, numpy\n",
      "Required-by: \n",
      "Note: you may need to restart the kernel to use updated packages.\n"
     ]
    }
   ],
   "source": [
    "pip show modulescicompclassr"
   ]
  },
  {
   "cell_type": "markdown",
   "id": "fe376b59-d6cd-4678-be79-3d0391f375ec",
   "metadata": {},
   "source": [
    "**Import**"
   ]
  },
  {
   "cell_type": "code",
   "execution_count": 11,
   "id": "9c4fd711-efe3-49ab-afd9-4affab2a632d",
   "metadata": {},
   "outputs": [],
   "source": [
    "import sys\n",
    "sys.path.append(r'C:\\Users\\guide\\Documents\\modulescicompclassr')  \n",
    "\n",
    "import modulescicompclassr\n",
    "from modulescicompclassr.mymodule import sincos"
   ]
  },
  {
   "cell_type": "code",
   "execution_count": 12,
   "id": "ad7e3aeb-c889-46e0-97c1-a4c691f961a0",
   "metadata": {},
   "outputs": [
    {
     "name": "stdout",
     "output_type": "stream",
     "text": [
      "Figure saved as 'sin.pdf'\n"
     ]
    },
    {
     "data": {
      "image/png": "[encoded data removed]",
      "text/plain": [
       "<Figure size 640x480 with 1 Axes>"
      ]
     },
     "metadata": {},
     "output_type": "display_data"
    }
   ],
   "source": [
    "# array \n",
    "x = np.linspace(0, 2 * np.pi, 100)\n",
    "\n",
    "# using the module\n",
    "sin, cos = sincos(x, save_fig=True, plot_type=\"sin\")"
   ]
  },
  {
   "cell_type": "markdown",
   "id": "09fd93a1-9c28-4261-ae92-61464119f75a",
   "metadata": {},
   "source": [
    "**The figure was succesfully saved**"
   ]
  },
  {
   "cell_type": "markdown",
   "id": "a88b2127-120b-4f76-a97e-307324067d79",
   "metadata": {},
   "source": [
    "## Q2: My own test\n",
    "\n",
    "- Pick a piece of python code that you like (your own PhD project, or take one of the exercises from this class). Implement a unit test and a regression test. \n",
    "- Put it under git version control, and write a github action that runs the tests at every commit.\n",
    "- Edit the github options to make sure the code *cannot* be committed if the tests fail (that's a common thing for big projects with many collaborations, nobody is allowed to break the code)\n",
    "\n"
   ]
  },
  {
   "cell_type": "markdown",
   "id": "cea84ac5-e1d6-4dc6-9592-7203c264002c",
   "metadata": {},
   "source": [
    "I create the `gravitational_force.py` file as:\n",
    "\n",
    "```\n",
    "G = 6.67430e-11 \n",
    "\n",
    "def gravitational_force(m1, m2, r):\n",
    "    \"\"\"Calculate the gravitational force between two masses m1 and m2 separated by distance r.\"\"\"\n",
    "    if r == 0:\n",
    "        raise ValueError(\"Distance between objects cannot be zero.\")\n",
    "    return G * (m1 * m2) / r**2\n",
    "```"
   ]
  },
  {
   "cell_type": "markdown",
   "id": "489e72b3-a0b4-4186-910a-0cc77a8a73cd",
   "metadata": {},
   "source": [
    "Then I create the `test_gravitational_force.py` file as:\n",
    "\n",
    "```\n",
    "import pytest\n",
    "from gravitational_force import gravitational_force\n",
    "\n",
    "def test_gravitational_force_unit():\n",
    "    \"\"\"Unit test for the gravitational_force function.\"\"\"\n",
    "    # Testing a case with simple, easy-to-calculate values\n",
    "    result = gravitational_force(10.0, 20.0, 2.0)  # Expected: G * (10 * 20) / (2^2)\n",
    "    expected = 6.67430e-11 * (10 * 20) / (2 ** 2)\n",
    "    assert result == pytest.approx(expected, rel=1e-5)\n",
    "\n",
    "def test_gravitational_force_regression():\n",
    "    \"\"\"Regression test for gravitational_force using a previously verified result.\"\"\"\n",
    "    # Known values from past tests (e.g., stored in documentation or logs)\n",
    "    result = gravitational_force(5.0, 5.0, 1.0)  # Known result: G * (5 * 5) / 1^2\n",
    "    expected = 6.67430e-11 * (5 * 5) / (1 ** 2)\n",
    "    assert result == pytest.approx(expected, rel=1e-5)\n",
    "\n",
    "\n",
    "```"
   ]
  },
  {
   "cell_type": "markdown",
   "id": "b4e0b8a2-671c-4b57-973f-5386c2eb9e54",
   "metadata": {},
   "source": [
    "On the terminal, I run:\n",
    "\n",
    "```\n",
    "    pytest test_gravitational_force.py -v\n",
    "\n",
    "```"
   ]
  },
  {
   "cell_type": "markdown",
   "id": "e711be74-f633-42b0-9e41-16cd8274b599",
   "metadata": {},
   "source": [
    "```\n",
    "PS C:\\Users\\guide\\Downloads> pytest test_gravitational_force.py -v\n",
    "====================== test session starts ======================\n",
    "platform win32 -- Python 3.13.1, pytest-8.3.4, pluggy-1.5.0 -- C:\\Users\\guide\\AppData\\Local\\Programs\\Python\\Python313\\python.exe\n",
    "cachedir: .pytest_cache\n",
    "rootdir: C:\\Users\\guide\\Downloads\n",
    "plugins: typeguard-4.3.0\n",
    "collected 2 items\n",
    "\n",
    "test_gravitational_force.py::test_gravitational_force_unit PASSED                                                [ 50%]\n",
    "test_gravitational_force.py::test_gravitational_force_regression PASSED                                          [100%]\n",
    "\n",
    "======================== 2 passed in 0.04s ========================\n",
    "```"
   ]
  },
  {
   "cell_type": "markdown",
   "id": "a5f3e64b-1c84-42f8-a07d-8c972cd95455",
   "metadata": {},
   "source": [
    "Now I create a directory `.github/workflows` and inside it I create the file `runcheck.yml` containing\n",
    "\n",
    "```\n",
    "name: Run tests at every commit\n",
    "run-name: ${{ github.actor }} is running the test at every commit\n",
    "\n",
    "on: [push]\n",
    "\n",
    "jobs:\n",
    "  Run-Tests:\n",
    "    runs-on: ubuntu-latest\n",
    "\n",
    "    steps:\n",
    "      # Step 1: Check out the repository\n",
    "      - name: Check out repository code\n",
    "        uses: actions/checkout@v4\n",
    "\n",
    "      # Step 2: Set up Python environment\n",
    "      - name: Set up Python\n",
    "        uses: actions/setup-python@v4\n",
    "        with:\n",
    "          python-version: 3.10  # Specifica una versione Python compatibile\n",
    "\n",
    "      # Step 3: Install dependencies\n",
    "      - name: Install dependencies\n",
    "        run: |\n",
    "          python -m pip install --upgrade pip\n",
    "          pip install pytest  # Installa pytest (aggiungi altre dipendenze se necessarie)\n",
    "\n",
    "      # Step 4: Run the tests\n",
    "      - name: Run tests\n",
    "        run: |\n",
    "          pytest\n",
    "\n",
    "```"
   ]
  },
  {
   "cell_type": "markdown",
   "id": "46d59285-c33f-4e75-a605-85494c1e7b19",
   "metadata": {},
   "source": [
    "I pushed eveything on github and I edited the github branch options so that the `gravitational_force.py` code cannot be committed if the tests fail "
   ]
  },
  {
   "cell_type": "markdown",
   "id": "3edfb4b5-adda-4bd1-965b-314aa6d4a472",
   "metadata": {},
   "source": [
    "Then i introduced an error in the `gravitational_force.py` code:\n",
    "```\n",
    "G = 6.67430e-11 \n",
    "\n",
    "def gravitational_force(m1, m2, r):\n",
    "    \"\"\"Calculate the gravitational force between two masses m1 and m2 separated by distance r.\"\"\"\n",
    "    if r == 0:\n",
    "        raise ValueError(\"Distance between objects cannot be zero.\")\n",
    "    #return G * (m1 * m2) / r**2\n",
    "    return G * (m1 ** m2) * r**2   <-------------------------------ERROR\n",
    "```"
   ]
  },
  {
   "cell_type": "markdown",
   "id": "cf3e32f1-c36a-494e-812f-6c497d61c1f0",
   "metadata": {},
   "source": [
    "I pushed it on github and created a pull request, which failed.\n"
   ]
  },
  {
   "cell_type": "markdown",
   "id": "621aa1a7-f24a-461d-8601-cb96204dbd21",
   "metadata": {},
   "source": [
    "\n",
    "<img src=\"failed.png\" alt=\"Failed succesfully\" width=\"800\"/>\n"
   ]
  },
  {
   "cell_type": "code",
   "execution_count": null,
   "id": "c102f8d2-db09-46b3-8e9c-876227ce161f",
   "metadata": {},
   "outputs": [],
   "source": []
  }
 ],
 "metadata": {
  "kernelspec": {
   "display_name": "Python 3 (ipykernel)",
   "language": "python",
   "name": "python3"
  },
  "language_info": {
   "codemirror_mode": {
    "name": "ipython",
    "version": 3
   },
   "file_extension": ".py",
   "mimetype": "text/x-python",
   "name": "python",
   "nbconvert_exporter": "python",
   "pygments_lexer": "ipython3",
   "version": "3.11.5"
  }
 },
 "nbformat": 4,
 "nbformat_minor": 5
}
